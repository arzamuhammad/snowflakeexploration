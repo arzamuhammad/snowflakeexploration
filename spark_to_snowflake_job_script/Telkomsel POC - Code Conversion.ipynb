{
 "metadata": {
  "kernelspec": {
   "display_name": "Streamlit Notebook",
   "name": "streamlit"
  },
  "lastEditStatus": {
   "notebookId": "z2s6ippxgwy24tlottn6",
   "authorId": "509359974269",
   "authorName": "ARDIYANMUHAMMAD",
   "authorEmail": "muhammad.ardiyan@snowflake.com",
   "sessionId": "a2f93e17-b9f8-478d-a281-0092065174d4",
   "lastEditTime": 1752491585678
  }
 },
 "nbformat_minor": 5,
 "nbformat": 4,
 "cells": [
  {
   "cell_type": "code",
   "id": "3775908f-ca36-4846-8f38-5adca39217f2",
   "metadata": {
    "language": "python",
    "name": "cell1"
   },
   "source": "from snowflake.snowpark import Session\nsession = get_active_session()",
   "execution_count": null,
   "outputs": []
  },
  {
   "cell_type": "markdown",
   "id": "1e664c30-e169-43b1-81f7-5e79b4297e29",
   "metadata": {
    "name": "cell7",
    "collapsed": false
   },
   "source": "TO CONVERT merge_revenue_ifrs_dd_pi.py CODE"
  },
  {
   "cell_type": "code",
   "id": "0051a6e3-262b-407a-a2b7-a5af7c266967",
   "metadata": {
    "language": "sql",
    "name": "cell4"
   },
   "outputs": [],
   "source": "select * from tsel_poc.raw.revenue_pi_dd_poc_tokenized\nlimit 10;",
   "execution_count": null
  },
  {
   "cell_type": "code",
   "id": "8d50cbf4-0c8d-4950-86cb-114990437ac9",
   "metadata": {
    "language": "sql",
    "name": "cell2"
   },
   "source": "SELECT expiry_date_usage AS trx_date,\n           purchase_date_2 AS purchase_date,\n           transaction_id,\n           '' AS subs_id,\n           msisdn,\n           CAST(reserve1 AS INT) AS price_plan_id,\n           brand,\n           1 AS pre_post_flag,\n           cust_type AS cust_type_desc,\n           cust_subtype AS cust_subtype_desc,\n           '' AS customer_sub_segment,\n           '' AS lac,\n           '' AS ci,\n           '' AS lacci_id,\n           node_type AS node,\n           'UNKNOWN' AS area_sales,\n           CASE WHEN region IS NULL OR region = '' THEN 'UNKNOWN' ELSE region END AS region_sales,\n           CASE WHEN branch IS NULL OR branch = '' THEN 'UNKNOWN' ELSE branch END AS branch,\n           'UNKNOWN' AS subbranch,\n           CASE WHEN cluster IS NULL OR cluster = '' THEN 'UNKNOWN' ELSE cluster END AS cluster_sales,\n           'UNKNOWN' AS provinsi,\n           'UNKNOWN' AS kabupaten,\n           'UNKNOWN' AS kecamatan,\n           'UNKNOWN' AS kelurahan,\n           NULL AS lacci_closing_flag,\n           bid AS sigma_business_id,\n           '' AS sigma_rules_id,\n           '' AS sku,\n           '' AS l1_payu,\n           '' AS l2_service_type,\n           '' AS l3_allowance_type,\n           '' AS l4_product_category,\n           '' AS l5_product,\n           l1_ias,\n           l2_ias,\n           l3_ias,\n           '' AS commercial_name,\n           '' AS channel,\n           '' AS pack_validity,\n           CAST(SUM(pi_value_final) AS DECIMAL(38,15)) AS rev_per_usage,\n           CAST(SUM(0) AS DECIMAL(38,15)) AS rev_seized,\n           CAST(SUM(0) AS INT) AS dur,\n           CAST(SUM(0) AS INT) AS trx,\n           CAST(SUM(0) AS BIGINT) AS vol,\n           NULL AS cust_id,\n           '' AS profile_name,\n           '' AS quota_name,\n           '' AS service_filter,\n           '' AS price_plan_name,\n           SUBSTR(transaction_id, 1, 2) AS channel_id,\n           '' AS site_id,\n           '' AS site_name,\n           '' AS region_hlr,\n           '' AS city_hlr,\n           current_date() AS load_date,\n           expiry_date_usage AS event_date,\n           'PI' AS source\n    FROM tsel_poc.raw.revenue_pi_dd_poc_tokenized\n    WHERE event_date = '2025-04-01'\n    GROUP BY expiry_date_usage, purchase_date_2, transaction_id, msisdn, reserve1, brand, cust_type, cust_subtype, node_type, region, branch, cluster, bid, l1_ias, l2_ias, l3_ias, transaction_id",
   "execution_count": null,
   "outputs": []
  },
  {
   "cell_type": "code",
   "id": "c695373e-ac74-4b62-a1f1-08206cbd5c81",
   "metadata": {
    "language": "python",
    "name": "cell3"
   },
   "source": "def process_data(session: Session, event_date: str):\n    # Define table\n    table_1 = f\"tsel_poc.raw.revenue_pi_dd_poc_tokenized\"\n\n    # Define period\n    print(f\"run for event_date={event_date}\")\n\n    # Compose SQL query\n    query = f\"\"\"\n    SELECT expiry_date_usage AS trx_date,\n           purchase_date_2 AS purchase_date,\n           transaction_id,\n           '' AS subs_id,\n           msisdn,\n           CAST(reserve1 AS INT) AS price_plan_id,\n           brand,\n           1 AS pre_post_flag,\n           cust_type AS cust_type_desc,\n           cust_subtype AS cust_subtype_desc,\n           '' AS customer_sub_segment,\n           '' AS lac,\n           '' AS ci,\n           '' AS lacci_id,\n           node_type AS node,\n           'UNKNOWN' AS area_sales,\n           CASE WHEN region IS NULL OR region = '' THEN 'UNKNOWN' ELSE region END AS region_sales,\n           CASE WHEN branch IS NULL OR branch = '' THEN 'UNKNOWN' ELSE branch END AS branch,\n           'UNKNOWN' AS subbranch,\n           CASE WHEN cluster IS NULL OR cluster = '' THEN 'UNKNOWN' ELSE cluster END AS cluster_sales,\n           'UNKNOWN' AS provinsi,\n           'UNKNOWN' AS kabupaten,\n           'UNKNOWN' AS kecamatan,\n           'UNKNOWN' AS kelurahan,\n           NULL AS lacci_closing_flag,\n           bid AS sigma_business_id,\n           '' AS sigma_rules_id,\n           '' AS sku,\n           '' AS l1_payu,\n           '' AS l2_service_type,\n           '' AS l3_allowance_type,\n           '' AS l4_product_category,\n           '' AS l5_product,\n           l1_ias,\n           l2_ias,\n           l3_ias,\n           '' AS commercial_name,\n           '' AS channel,\n           '' AS pack_validity,\n           CAST(SUM(pi_value_final) AS DECIMAL(38,15)) AS rev_per_usage,\n           CAST(SUM(0) AS DECIMAL(38,15)) AS rev_seized,\n           CAST(SUM(0) AS INT) AS dur,\n           CAST(SUM(0) AS INT) AS trx,\n           CAST(SUM(0) AS BIGINT) AS vol,\n           NULL AS cust_id,\n           '' AS profile_name,\n           '' AS quota_name,\n           '' AS service_filter,\n           '' AS price_plan_name,\n           SUBSTR(transaction_id, 1, 2) AS channel_id,\n           '' AS site_id,\n           '' AS site_name,\n           '' AS region_hlr,\n           '' AS city_hlr,\n           current_date() AS load_date ,\n           expiry_date_usage AS event_date,\n           'PI' AS source\n    FROM {table_1}\n    WHERE expiry_date_usage = '{event_date}'\n    GROUP BY expiry_date_usage, purchase_date_2, transaction_id, msisdn, reserve1, brand, cust_type, cust_subtype, node_type, region, branch, cluster, bid, l1_ias, l2_ias, l3_ias, transaction_id\n    \"\"\"\n    df = session.sql(query)\n    return df",
   "execution_count": null,
   "outputs": []
  },
  {
   "cell_type": "code",
   "id": "6eaa4bdd-a86f-41f5-9b72-a9bffe88d733",
   "metadata": {
    "language": "python",
    "name": "cell5"
   },
   "outputs": [],
   "source": "\ndf = process_data(session, \"2025-04-01\")",
   "execution_count": null
  },
  {
   "cell_type": "code",
   "id": "cf0a188d-f1e8-46ff-895e-349d5002c2cf",
   "metadata": {
    "language": "python",
    "name": "cell6"
   },
   "outputs": [],
   "source": "df.show()",
   "execution_count": null
  },
  {
   "cell_type": "markdown",
   "id": "43b6d961-0b26-4894-8d85-43260a80333b",
   "metadata": {
    "name": "cell8",
    "collapsed": false
   },
   "source": "TO CONVERT merge_revenue_ifrs_dd_seized.py Code"
  }
 ]
}