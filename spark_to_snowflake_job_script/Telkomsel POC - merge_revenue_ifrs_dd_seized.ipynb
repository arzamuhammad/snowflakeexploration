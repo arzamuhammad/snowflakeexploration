{
 "metadata": {
  "kernelspec": {
   "display_name": "Streamlit Notebook",
   "name": "streamlit"
  },
  "lastEditStatus": {
   "notebookId": "gnlv5q546rnrmvifehqg",
   "authorId": "509359974269",
   "authorName": "ARDIYANMUHAMMAD",
   "authorEmail": "muhammad.ardiyan@snowflake.com",
   "sessionId": "c9e5589e-68e5-4af1-896a-4056df2b2144",
   "lastEditTime": 1752492315362
  }
 },
 "nbformat_minor": 5,
 "nbformat": 4,
 "cells": [
  {
   "cell_type": "code",
   "id": "3775908f-ca36-4846-8f38-5adca39217f2",
   "metadata": {
    "language": "python",
    "name": "cell1"
   },
   "source": "# Import python packages\nimport streamlit as st\nimport pandas as pd\n\n# We can also use Snowpark for our analyses!\nfrom snowflake.snowpark.context import get_active_session\nfrom snowflake.snowpark import Session\nsession = get_active_session()\n",
   "execution_count": null,
   "outputs": []
  },
  {
   "cell_type": "markdown",
   "id": "f4a3615f-0100-4264-8517-0a5c24d17a23",
   "metadata": {
    "name": "cell5",
    "collapsed": false
   },
   "source": "TO CONVERT merge_revenue_ifrs_dd_seized.py CODE"
  },
  {
   "cell_type": "code",
   "id": "ff7a26c9-dba5-4389-b730-28616714eb9a",
   "metadata": {
    "language": "sql",
    "name": "cell6"
   },
   "outputs": [],
   "source": "select * from tsel_poc.raw.ifrs_bonus_seizure_poc_tokenized\nlimit 10;",
   "execution_count": null
  },
  {
   "cell_type": "markdown",
   "id": "1df1f7a3-ef7f-4986-8485-3cb8cd446ee3",
   "metadata": {
    "name": "cell4",
    "collapsed": false
   },
   "source": ""
  },
  {
   "cell_type": "code",
   "id": "55906d98-8be9-4cea-81fe-88f949c592b4",
   "metadata": {
    "language": "sql",
    "name": "cell7"
   },
   "outputs": [],
   "source": "\n    SELECT trx_date,\n           concat(substr(timestamp_ifrs,1,4), '-', substr(timestamp_ifrs,5,2), '-', substr(timestamp_ifrs,7,2)) AS purchase_date,\n           transaction_id,\n           subs_id,\n           msisdn,\n           price_plan_id,\n           brand,\n           pre_post_flag,\n           cust_type_desc,\n           cust_subtype_desc,\n           customer_sub_segment,\n           lac,\n           ci,\n           lacci_id_ifrs AS lacci_id,\n           node,\n           CASE WHEN area_sales IS NULL OR area_sales='' THEN 'UNKNOWN' ELSE area_sales END AS area_sales,\n           CASE WHEN region_sales IS NULL OR region_sales='' THEN 'UNKNOWN' ELSE region_sales END AS region_sales,\n           CASE WHEN branch IS NULL OR branch='' THEN 'UNKNOWN' ELSE branch END AS branch,\n           CASE WHEN sub_branch IS NULL OR sub_branch='' THEN 'UNKNOWN' ELSE sub_branch END AS subbranch,\n           CASE WHEN cluster_sales IS NULL OR cluster_sales='' THEN 'UNKNOWN' ELSE cluster_sales END AS cluster_sales,\n           CASE WHEN propinsi IS NULL OR propinsi='' THEN 'UNKNOWN' ELSE propinsi END AS provinsi,\n           CASE WHEN kabupaten IS NULL OR kabupaten='' THEN 'UNKNOWN' ELSE kabupaten END AS kabupaten,\n           CASE WHEN kecamatan IS NULL OR kecamatan='' THEN 'UNKNOWN' ELSE kecamatan END AS kecamatan,\n           CASE WHEN kelurahan IS NULL OR kelurahan='' THEN 'UNKNOWN' ELSE kelurahan END AS kelurahan,\n           lacci_closing_flag,\n           sigma_business_id,\n           sigma_rules_id,\n           sku,\n           l1_payu,\n           l2_service_type,\n           l3_allowance_type,\n           l4_product_category,\n           l5_product,\n           '' AS l1_ias,\n           '' AS l2_ias,\n           '' AS l3_ias,\n           commercial_name,\n           channel,\n           validity AS pack_validity,\n           cast(sum(0) AS decimal (38,15)) AS rev_per_usage,\n           cast(sum(rev_seized) AS decimal (38,15)) AS rev_seized,\n           cast(sum(0) AS int) AS dur,\n           cast(sum(remaining_quota) AS int) AS trx,\n           cast(sum(0) AS bigint) AS vol,\n           cust_id,\n           '' AS profile_name,\n           item_id AS quota_name,\n           '' AS service_filter,\n           '' AS price_plan_name,\n           channel_id,\n           '' AS site_id,\n           '' AS site_name,\n           region_hlr,\n           city_hlr,\n           current_date() AS load_date,\n           event_Date,\n           'SEIZED' AS SOURCE\n\n    FROM tsel_poc.raw.ifrs_bonus_seizure_poc_tokenized\n    WHERE event_date = '2025-04-01'\n      AND rev_seized < 100000000000\n      AND pre_post_flag = '1'\n\n    GROUP BY 1,2,3,4,5,6,7,8,9,10,11,12,13,14,15,16,17,18,19,20,21,22,23,24,25,26,27,28,29,30,31,32,33,34,35,36,37,38,39,45,46,47,48,49,50,51,52,53,54,55,56,57\n\n",
   "execution_count": null
  },
  {
   "cell_type": "code",
   "id": "88e31e36-43b7-4488-9af5-9b8d143c3647",
   "metadata": {
    "language": "python",
    "name": "cell3"
   },
   "outputs": [],
   "source": "def process_data(session: Session, event_date: str):\n    # Define table\n    # Define table\n    table_1 = f\"tsel_poc.raw.ifrs_bonus_seizure_poc_tokenized\"\n\n\n    print(f\"\"\"run for event_date={event_date} \"\"\")\n\n\n    # Compose SQL query\n    query = f\"\"\"\n    SELECT trx_date,\n           CONCAT(SUBSTR(timestamp_ifrs,1,4), '-', SUBSTR(timestamp_ifrs,5,2), '-', SUBSTR(timestamp_ifrs,7,2)) AS purchase_date,\n           transaction_id,\n           subs_id,\n           msisdn,\n           price_plan_id,\n           brand,\n           pre_post_flag,\n           cust_type_desc,\n           cust_subtype_desc,\n           customer_sub_segment,\n           lac,\n           ci,\n           lacci_id_ifrs AS lacci_id,\n           node,\n           CASE WHEN area_sales IS NULL OR area_sales='' THEN 'UNKNOWN' ELSE area_sales END AS area_sales,\n           CASE WHEN region_sales IS NULL OR region_sales='' THEN 'UNKNOWN' ELSE region_sales END AS region_sales,\n           CASE WHEN branch IS NULL OR branch='' THEN 'UNKNOWN' ELSE branch END AS branch,\n           CASE WHEN sub_branch IS NULL OR sub_branch='' THEN 'UNKNOWN' ELSE sub_branch END AS subbranch,\n           CASE WHEN cluster_sales IS NULL OR cluster_sales='' THEN 'UNKNOWN' ELSE cluster_sales END AS cluster_sales,\n           CASE WHEN propinsi IS NULL OR propinsi='' THEN 'UNKNOWN' ELSE propinsi END AS provinsi,\n           CASE WHEN kabupaten IS NULL OR kabupaten='' THEN 'UNKNOWN' ELSE kabupaten END AS kabupaten,\n           CASE WHEN kecamatan IS NULL OR kecamatan='' THEN 'UNKNOWN' ELSE kecamatan END AS kecamatan,\n           CASE WHEN kelurahan IS NULL OR kelurahan='' THEN 'UNKNOWN' ELSE kelurahan END AS kelurahan,\n           lacci_closing_flag,\n           sigma_business_id,\n           sigma_rules_id,\n           sku,\n           l1_payu,\n           l2_service_type,\n           l3_allowance_type,\n           l4_product_category,\n           l5_product,\n           '' AS l1_ias,\n           '' AS l2_ias,\n           '' AS l3_ias,\n           commercial_name,\n           channel,\n           validity AS pack_validity,\n           CAST(SUM(0) AS DECIMAL(38,15)) AS rev_per_usage,\n           CAST(SUM(rev_seized) AS DECIMAL(38,15)) AS rev_seized,\n           CAST(SUM(0) AS INT) AS dur,\n           CAST(SUM(remaining_quota) AS INT) AS trx,\n           CAST(SUM(0) AS BIGINT) AS vol,\n           cust_id,\n           '' AS profile_name,\n           item_id AS quota_name,\n           '' AS service_filter,\n           '' AS price_plan_name,\n           channel_id,\n           '' AS site_id,\n           '' AS site_name,\n           region_hlr,\n           city_hlr,\n           current_Date() AS load_date,\n           event_date,\n           'SEIZED' AS SOURCE\n    FROM {table_1}\n    WHERE event_date = '{event_date}'\n      AND rev_seized < 100000000000\n      AND pre_post_flag = '1'\n    GROUP BY trx_date, \n             CONCAT(SUBSTR(timestamp_ifrs,1,4), '-', SUBSTR(timestamp_ifrs,5,2), '-', SUBSTR(timestamp_ifrs,7,2)),\n             transaction_id,\n             subs_id,\n             msisdn,\n             price_plan_id,\n             brand,\n             pre_post_flag,\n             cust_type_desc,\n             cust_subtype_desc,\n             customer_sub_segment,\n             lac,\n             ci,\n             lacci_id_ifrs,\n             node,\n             area_sales,\n             region_sales,\n             branch,\n             sub_branch,\n             cluster_sales,\n             propinsi,\n             kabupaten,\n             kecamatan,\n             kelurahan,\n             lacci_closing_flag,\n             sigma_business_id,\n             sigma_rules_id,\n             sku,\n             l1_payu,\n             l2_service_type,\n             l3_allowance_type,\n             l4_product_category,\n             l5_product,\n             commercial_name,\n             channel,\n             validity,\n             cust_id,\n             item_id,\n             channel_id,\n             region_hlr,\n             city_hlr,\n             event_date\n    \"\"\"\n\n    df = session.sql(query)\n    return df",
   "execution_count": null
  },
  {
   "cell_type": "code",
   "id": "57c337e0-99cd-4be2-b1b5-442d8fa9eb01",
   "metadata": {
    "language": "python",
    "name": "cell2"
   },
   "outputs": [],
   "source": "df = process_data(session, '2025-04-01')\ndf.show()",
   "execution_count": null
  }
 ]
}