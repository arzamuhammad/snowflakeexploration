{
 "cells": [
  {
   "cell_type": "code",
   "execution_count": null,
   "id": "3775908f-ca36-4846-8f38-5adca39217f2",
   "metadata": {
    "language": "python",
    "name": "cell1"
   },
   "outputs": [],
   "source": [
    "# Import python packages\n",
    "import streamlit as st\n",
    "import pandas as pd\n",
    "\n",
    "# We can also use Snowpark for our analyses!\n",
    "from snowflake.snowpark.context import get_active_session\n",
    "from snowflake.snowpark import Session\n",
    "from snowflake.snowpark.types import StringType\n",
    "\n",
    "session = get_active_session()\n"
   ]
  },
  {
   "cell_type": "code",
   "execution_count": null,
   "id": "88e31e36-43b7-4488-9af5-9b8d143c3647",
   "metadata": {
    "language": "python",
    "name": "cell3"
   },
   "outputs": [],
   "source": [
    "from snowflake.snowpark import Session, DataFrame\n",
    "\n",
    "def process_data(session: Session, month_date: str, event_date: str, load_date: str):\n",
    "    delete_sql = f\"\"\" DELETE FROM TELKOMSEL_POC.CURATED.merge_revenue_ifrs_dd_upcc WHERE event_date = '{event_date}' \"\"\"\n",
    "\n",
    "    session.sql(delete_sql).collect()\n",
    "\n",
    "    # Step 2: Build the DataFrame with new data to append\n",
    "    query = f\"\"\"\n",
    "     SELECT trx_date,\n",
    "           concat(substr(ts_ifrs,1,4), '-', substr(ts_ifrs,5,2), '-', substr(ts_ifrs,7,2)) AS purchase_date,\n",
    "           quota_extended_attribute AS transaction_id,\n",
    "           subs_id,\n",
    "           msisdn,\n",
    "           price_plan_id,\n",
    "           brand,\n",
    "           pre_post_flag,\n",
    "           cust_type_desc,\n",
    "           cust_subtype_desc,\n",
    "           customer_sub_segment,\n",
    "           lac,\n",
    "           ci,\n",
    "           lacci_id_ifrs AS lacci_id,\n",
    "           node_type AS node,\n",
    "           CASE WHEN area_sales_ifrs IS NULL OR area_sales_ifrs='' THEN 'UNKNOWN' ELSE area_sales_ifrs END AS area_sales,\n",
    "           CASE WHEN region_sales_ifrs IS NULL OR region_sales_ifrs='' THEN 'UNKNOWN' ELSE region_sales_ifrs END AS region_sales,\n",
    "           CASE WHEN branch_ifrs IS NULL OR branch_ifrs='' THEN 'UNKNOWN' ELSE branch_ifrs END AS branch,\n",
    "           CASE WHEN sub_branch_ifrs IS NULL OR sub_branch_ifrs='' THEN 'UNKNOWN' ELSE sub_branch_ifrs END AS subbranch,\n",
    "           CASE WHEN cluster_ifrs IS NULL OR cluster_ifrs='' THEN 'UNKNOWN' ELSE cluster_ifrs END AS cluster_sales,\n",
    "           CASE WHEN provinsi_ifrs IS NULL OR provinsi_ifrs='' THEN 'UNKNOWN' ELSE provinsi_ifrs END AS provinsi,\n",
    "           CASE WHEN kabupaten_ifrs IS NULL OR kabupaten_ifrs='' THEN 'UNKNOWN' ELSE kabupaten_ifrs END AS kabupaten,\n",
    "           CASE WHEN kecamatan_ifrs IS NULL OR kecamatan_ifrs='' THEN 'UNKNOWN' ELSE kecamatan_ifrs END AS kecamatan,\n",
    "           CASE WHEN kelurahan_ifrs IS NULL OR kelurahan_ifrs='' THEN 'UNKNOWN' ELSE kelurahan_ifrs END AS kelurahan,\n",
    "           lacci_closing_flag_ifrs AS lacci_closing_flag,\n",
    "           sigma_business_id,\n",
    "           sigma_rules_id,\n",
    "           package_id AS sku,\n",
    "           l1_payu,\n",
    "           l2_service_type,\n",
    "           l3_allowance_type,\n",
    "           l4_product_category,\n",
    "           l5_product,\n",
    "           '' AS l1_ias,\n",
    "           '' AS l2_ias,\n",
    "           '' AS l3_ias,\n",
    "           commercial_name,\n",
    "           channel,\n",
    "           validity AS pack_validity,\n",
    "           cast(sum(rev_per_usage) AS decimal (38,15)) AS rev_per_usage,\n",
    "           cast(sum(rev_seized) AS decimal (38,15)) AS rev_seized,\n",
    "           cast(sum(0) AS int) AS dur,\n",
    "           cast(count(*) AS int) AS trx,\n",
    "           cast(sum(quota_usage) AS bigint) AS vol,\n",
    "           cust_id,\n",
    "           service_name AS profile_name,\n",
    "           quota_name,\n",
    "           COALESCE(split(ifrs_param,'[\\$]')[9],'0') AS service_filter,\n",
    "           '' AS price_plan_name,\n",
    "           channel_id,\n",
    "           site_id,\n",
    "           site_name,\n",
    "           region_hlr,\n",
    "           city_hlr,\n",
    "           '{load_date}'::varchar AS load_date,\n",
    "           event_date,\n",
    "           CASE WHEN rev_seized > 0 THEN 'UPCC-SEIZED' ELSE 'UPCC_USAGE' END AS SOURCE\n",
    "\n",
    "    FROM TELKOMSEL_POC.RAW.USAGE_UPCC_EDR_POC_TOKENIZED\n",
    "    WHERE event_date = '{event_date}'::varchar\n",
    "      AND substr(quota_extended_attribute, 19, 2) = '00'\n",
    "      AND TRIGGER_TYPE in (2,3,18,100,136,138,111,119,116)\n",
    "      AND pre_post_flag = '1'\n",
    "\n",
    "    GROUP BY 1,2,3,4,5,6,7,8,9,10,11,12,13,14,15,16,17,18,19,20,21,22,23,24,25,26,27,28,29,30,31,32,33,34,35,36,37,38,39,45,46,47,48,49,50,51,52,53,54,55,56,57 \n",
    "   \n",
    "    \"\"\"\n",
    "\n",
    "    df = session.sql(query)\n",
    "\n",
    "    # Step 3: Append the query result to the target table\n",
    "    df.write.mode('append').save_as_table('TELKOMSEL_POC.CURATED.merge_revenue_ifrs_dd_upcc')\n",
    "\n",
    "    return f\"Deleted and appended data for event_date: {event_date}\"\n"
   ]
  },
  {
   "cell_type": "code",
   "execution_count": null,
   "id": "1d6148b3-b7e8-411c-bb63-3e4282e5aa09",
   "metadata": {
    "language": "python",
    "name": "cell6"
   },
   "outputs": [],
   "source": [
    "session.sproc.register(\n",
    "    func=process_data,\n",
    "    name=\"process_data_merge_revenue_ifrs_dd_upcc\",\n",
    "    is_permanent=True,\n",
    "    stage_location=\"@TSELPOC_STAGE\",           # Replace with your actual stage\n",
    "    replace=True,\n",
    "    input_types=[StringType(), StringType()],          # Instead of [str]\n",
    "    return_type=StringType(),            # Instead of str or \"STRING\"\n",
    "    packages=[\"snowflake-snowpark-python\"]\n",
    ")\n"
   ]
  },
  {
   "cell_type": "code",
   "execution_count": null,
   "id": "932e2c45-29ce-4730-91fe-66ee36c7442a",
   "metadata": {
    "language": "sql",
    "name": "cell8"
   },
   "outputs": [],
   "source": [
    "call process_data_merge_revenue_ifrs_dd_upcc('2025-04-01','2025-04-02')"
   ]
  }
 ],
 "metadata": {
  "kernelspec": {
   "display_name": "Streamlit Notebook",
   "name": "streamlit"
  },
  "lastEditStatus": {
   "authorEmail": "muhammad.ardiyan@snowflake.com",
   "authorId": "509359974269",
   "authorName": "ARDIYANMUHAMMAD",
   "lastEditTime": 1752566402594,
   "notebookId": "y42oywlqerusl56x4xua",
   "sessionId": "b055f32b-7b5b-42ec-844f-0bb6ad48a2fb"
  }
 },
 "nbformat": 4,
 "nbformat_minor": 5
}
