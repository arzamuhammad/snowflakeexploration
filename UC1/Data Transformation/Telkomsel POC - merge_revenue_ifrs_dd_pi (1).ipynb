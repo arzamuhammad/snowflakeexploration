{
 "metadata": {
  "kernelspec": {
   "display_name": "Streamlit Notebook",
   "name": "streamlit"
  },
  "lastEditStatus": {
   "notebookId": "ugztr7polumua7xsgrz3",
   "authorId": "509359974269",
   "authorName": "ARDIYANMUHAMMAD",
   "authorEmail": "muhammad.ardiyan@snowflake.com",
   "sessionId": "31f19d31-118d-40d3-a523-8f1899b8276d",
   "lastEditTime": 1752567642844
  }
 },
 "nbformat_minor": 5,
 "nbformat": 4,
 "cells": [
  {
   "cell_type": "code",
   "id": "3775908f-ca36-4846-8f38-5adca39217f2",
   "metadata": {
    "language": "python",
    "name": "cell1"
   },
   "source": "# Import python packages\nimport streamlit as st\nimport pandas as pd\n\n# We can also use Snowpark for our analyses!\nfrom snowflake.snowpark.context import get_active_session\nfrom snowflake.snowpark import Session\nfrom snowflake.snowpark.types import StringType\n\nsession = get_active_session()\n",
   "execution_count": null,
   "outputs": []
  },
  {
   "cell_type": "markdown",
   "id": "1e664c30-e169-43b1-81f7-5e79b4297e29",
   "metadata": {
    "name": "cell7",
    "collapsed": false
   },
   "source": "TO CONVERT merge_revenue_ifrs_dd_pi.py CODE"
  },
  {
   "cell_type": "code",
   "id": "c695373e-ac74-4b62-a1f1-08206cbd5c81",
   "metadata": {
    "language": "python",
    "name": "cell3"
   },
   "source": "from snowflake.snowpark import Session, DataFrame\n\ndef process_data(session: Session, event_date: str):\n    source_table = \"tsel_poc.raw.revenue_pi_dd_poc_tokenized\"\n    target_table = \"telkomsel_poc.curated.merge_revenue_ifrs_dd_poc_tokenized\"  # Replace with your actual target table\n\n    # Step 1: Delete existing data for the event_date AND source = 'PI'\n    delete_sql = f\"\"\" DELETE FROM {target_table} WHERE event_date = '{event_date}' AND source = 'PI' \"\"\"\n\n    session.sql(delete_sql).collect()\n\n    # Compose SQL query\n    query = f\"\"\"\n    SELECT expiry_date_usage AS trx_date,\n           purchase_date_2 AS purchase_date,\n           transaction_id,\n           '' AS subs_id,\n           msisdn,\n           CAST(reserve1 AS INT) AS price_plan_id,\n           brand,\n           1 AS pre_post_flag,\n           cust_type AS cust_type_desc,\n           cust_subtype AS cust_subtype_desc,\n           '' AS customer_sub_segment,\n           '' AS lac,\n           '' AS ci,\n           '' AS lacci_id,\n           node_type AS node,\n           'UNKNOWN' AS area_sales,\n           CASE WHEN region IS NULL OR region = '' THEN 'UNKNOWN' ELSE region END AS region_sales,\n           CASE WHEN branch IS NULL OR branch = '' THEN 'UNKNOWN' ELSE branch END AS branch,\n           'UNKNOWN' AS subbranch,\n           CASE WHEN cluster IS NULL OR cluster = '' THEN 'UNKNOWN' ELSE cluster END AS cluster_sales,\n           'UNKNOWN' AS provinsi,\n           'UNKNOWN' AS kabupaten,\n           'UNKNOWN' AS kecamatan,\n           'UNKNOWN' AS kelurahan,\n           NULL AS lacci_closing_flag,\n           bid AS sigma_business_id,\n           '' AS sigma_rules_id,\n           '' AS sku,\n           '' AS l1_payu,\n           '' AS l2_service_type,\n           '' AS l3_allowance_type,\n           '' AS l4_product_category,\n           '' AS l5_product,\n           l1_ias,\n           l2_ias,\n           l3_ias,\n           '' AS commercial_name,\n           '' AS channel,\n           '' AS pack_validity,\n           CAST(SUM(pi_value_final) AS DECIMAL(38,15)) AS rev_per_usage,\n           CAST(SUM(0) AS DECIMAL(38,15)) AS rev_seized,\n           CAST(SUM(0) AS INT) AS dur,\n           CAST(SUM(0) AS INT) AS trx,\n           CAST(SUM(0) AS BIGINT) AS vol,\n           NULL AS cust_id,\n           '' AS profile_name,\n           '' AS quota_name,\n           '' AS service_filter,\n           '' AS price_plan_name,\n           SUBSTR(transaction_id, 1, 2) AS channel_id,\n           '' AS site_id,\n           '' AS site_name,\n           '' AS region_hlr,\n           '' AS city_hlr,\n           current_date() AS load_date ,\n           expiry_date_usage AS event_date,\n           'PI' AS source\n    FROM {source_table}\n    WHERE expiry_date_usage = '{event_date}'\n    GROUP BY expiry_date_usage, purchase_date_2, transaction_id, msisdn, reserve1, brand, cust_type, cust_subtype, node_type, region, branch, cluster, bid, l1_ias, l2_ias, l3_ias, transaction_id\n    \"\"\"\n    df = session.sql(query)\n\n    # Step 3: Append the query result to the target table\n    df.write.mode(\"append\").save_as_table(target_table)\n\n    return f\"Deleted and appended data for event_date: {event_date} and source = 'SEIZED'\"",
   "execution_count": null,
   "outputs": []
  },
  {
   "cell_type": "code",
   "id": "666c9f0c-b3cc-4550-be14-fe9e9e7f0c76",
   "metadata": {
    "language": "python",
    "name": "cell6"
   },
   "outputs": [],
   "source": "session.sproc.register(\n    func=process_data,\n    name=\"process_data_proc_merge_revenue_ifrs_dd_pi\",\n    is_permanent=True,\n    stage_location=\"@TSELPOC_STAGE\",           # Replace with your actual stage\n    replace=True,\n    input_types=[StringType()],          # Instead of [str]\n    return_type=StringType(),            # Instead of str or \"STRING\"\n    packages=[\"snowflake-snowpark-python\"]\n)\n",
   "execution_count": null
  },
  {
   "cell_type": "code",
   "id": "b6ad5706-60c4-4ce2-bf92-a63b7fead739",
   "metadata": {
    "language": "sql",
    "name": "cell2"
   },
   "outputs": [],
   "source": "call TELKOMSEL_POC.CURATED.process_data_proc_merge_revenue_ifrs_dd_pi('2025-04-01')",
   "execution_count": null
  },
  {
   "cell_type": "code",
   "id": "22b0f8b5-3087-4c85-a7f7-9ed9b89648b0",
   "metadata": {
    "language": "sql",
    "name": "cell4"
   },
   "outputs": [],
   "source": "select count(*) from telkomsel_poc.curated.merge_revenue_ifrs_dd_poc_tokenized;",
   "execution_count": null
  },
  {
   "cell_type": "markdown",
   "id": "43b6d961-0b26-4894-8d85-43260a80333b",
   "metadata": {
    "name": "cell8",
    "collapsed": false
   },
   "source": "TO CONVERT merge_revenue_ifrs_dd_seized.py Code"
  }
 ]
}