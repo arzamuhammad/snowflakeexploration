{
 "metadata": {
  "kernelspec": {
   "display_name": "Streamlit Notebook",
   "name": "streamlit"
  },
  "lastEditStatus": {
   "notebookId": "y42oywlqerusl56x4xua",
   "authorId": "509359974269",
   "authorName": "ARDIYANMUHAMMAD",
   "authorEmail": "muhammad.ardiyan@snowflake.com",
   "sessionId": "b055f32b-7b5b-42ec-844f-0bb6ad48a2fb",
   "lastEditTime": 1752566402594
  }
 },
 "nbformat_minor": 5,
 "nbformat": 4,
 "cells": [
  {
   "cell_type": "code",
   "id": "3775908f-ca36-4846-8f38-5adca39217f2",
   "metadata": {
    "language": "python",
    "name": "cell1"
   },
   "source": "# Import python packages\nimport streamlit as st\nimport pandas as pd\n\n# We can also use Snowpark for our analyses!\nfrom snowflake.snowpark.context import get_active_session\nfrom snowflake.snowpark import Session\nfrom snowflake.snowpark.types import StringType\n\nsession = get_active_session()\n",
   "execution_count": null,
   "outputs": []
  },
  {
   "cell_type": "markdown",
   "id": "f4a3615f-0100-4264-8517-0a5c24d17a23",
   "metadata": {
    "name": "cell5",
    "collapsed": false
   },
   "source": "TO CONVERT merge_revenue_ifrs_dd_seized.py CODE"
  },
  {
   "cell_type": "markdown",
   "id": "1df1f7a3-ef7f-4986-8485-3cb8cd446ee3",
   "metadata": {
    "name": "cell4",
    "collapsed": false
   },
   "source": ""
  },
  {
   "cell_type": "code",
   "id": "88e31e36-43b7-4488-9af5-9b8d143c3647",
   "metadata": {
    "language": "python",
    "name": "cell3"
   },
   "outputs": [],
   "source": "from snowflake.snowpark import Session, DataFrame\n\ndef process_data(session: Session, event_date: str):\n    source_table = \"tsel_poc.raw.ifrs_bonus_seizure_poc_tokenized\"\n    target_table = \"telkomsel_poc.curated.merge_revenue_ifrs_dd_poc_tokenized\"  # Replace with your actual target table\n\n    # Step 1: Delete existing data for the event_date AND source = 'SEIZED'\n    delete_sql = f\"\"\" DELETE FROM {target_table} WHERE event_date = '{event_date}' AND source = 'SEIZED' \"\"\"\n\n    session.sql(delete_sql).collect()\n\n    # Step 2: Build the DataFrame with new data to append\n    query = f\"\"\"\n     SELECT \n            trx_date,\n            CONCAT(SUBSTR(timestamp_ifrs, 1, 4), '-', SUBSTR(timestamp_ifrs, 5, 2), '-', SUBSTR(timestamp_ifrs, 7, 2)) AS purchase_date,\n            transaction_id,\n            subs_id,\n            msisdn,\n            price_plan_id,\n            brand,\n            pre_post_flag,\n            cust_type_desc,\n            cust_subtype_desc,\n            customer_sub_segment,\n            lac,\n            ci,\n            lacci_id_ifrs AS lacci_id,\n            node,\n            CASE WHEN area_sales IS NULL OR area_sales = '' THEN 'UNKNOWN' ELSE area_sales END AS area_sales,\n            CASE WHEN region_sales IS NULL OR region_sales = '' THEN 'UNKNOWN' ELSE region_sales END AS region_sales,\n            CASE WHEN branch IS NULL OR branch = '' THEN 'UNKNOWN' ELSE branch END AS branch,\n            CASE WHEN sub_branch IS NULL OR sub_branch = '' THEN 'UNKNOWN' ELSE sub_branch END AS subbranch,\n            CASE WHEN cluster_sales IS NULL OR cluster_sales = '' THEN 'UNKNOWN' ELSE cluster_sales END AS cluster_sales,\n            CASE WHEN propinsi IS NULL OR propinsi = '' THEN 'UNKNOWN' ELSE propinsi END AS provinsi,\n            CASE WHEN kabupaten IS NULL OR kabupaten = '' THEN 'UNKNOWN' ELSE kabupaten END AS kabupaten,\n            CASE WHEN kecamatan IS NULL OR kecamatan = '' THEN 'UNKNOWN' ELSE kecamatan END AS kecamatan,\n            CASE WHEN kelurahan IS NULL OR kelurahan = '' THEN 'UNKNOWN' ELSE kelurahan END AS kelurahan,\n            lacci_closing_flag,\n            sigma_business_id,\n            sigma_rules_id,\n            sku,\n            l1_payu,\n            l2_service_type,\n            l3_allowance_type,\n            l4_product_category,\n            l5_product,\n            '' AS l1_ias,\n            '' AS l2_ias,\n            '' AS l3_ias,\n            commercial_name,\n            channel,\n            validity AS pack_validity,\n            CAST(SUM(0) AS DECIMAL(38, 15)) AS rev_per_usage,\n            CAST(SUM(rev_seized) AS DECIMAL(38, 15)) AS rev_seized,\n            CAST(SUM(0) AS INT) AS dur,\n            CAST(SUM(remaining_quota) AS INT) AS trx,\n            CAST(SUM(0) AS BIGINT) AS vol,\n            cust_id,\n            '' AS profile_name,\n            item_id AS quota_name,\n            '' AS service_filter,\n            '' AS price_plan_name,\n            channel_id,\n            '' AS site_id,\n            '' AS site_name,\n            region_hlr,\n            city_hlr,\n            current_date() AS load_date,\n            event_Date,\n            'SEIZED' AS SOURCE\n        FROM {source_table}\n        WHERE event_date = '{event_date}'\n          AND rev_seized < 100000000000\n          AND pre_post_flag = '1'\n        GROUP BY \n            trx_date, \n            CONCAT(SUBSTR(timestamp_ifrs, 1, 4), '-', SUBSTR(timestamp_ifrs, 5, 2), '-', SUBSTR(timestamp_ifrs, 7, 2)),\n            transaction_id, subs_id, msisdn, price_plan_id, brand, pre_post_flag, cust_type_desc,\n            cust_subtype_desc, customer_sub_segment, lac, ci, lacci_id_ifrs, node,\n            area_sales, region_sales, branch, sub_branch, cluster_sales, propinsi,\n            kabupaten, kecamatan, kelurahan, lacci_closing_flag, sigma_business_id,\n            sigma_rules_id, sku, l1_payu, l2_service_type, l3_allowance_type, \n            l4_product_category, l5_product, commercial_name, channel, validity, \n            cust_id, item_id, channel_id, region_hlr, city_hlr, event_Date\n    \"\"\"\n\n    df = session.sql(query)\n\n    # Step 3: Append the query result to the target table\n    df.write.mode(\"append\").save_as_table(target_table)\n\n    return f\"Deleted and appended data for event_date: {event_date} and source = 'SEIZED'\"\n",
   "execution_count": null
  },
  {
   "cell_type": "code",
   "id": "1d6148b3-b7e8-411c-bb63-3e4282e5aa09",
   "metadata": {
    "language": "python",
    "name": "cell6"
   },
   "outputs": [],
   "source": "session.sproc.register(\n    func=process_data,\n    name=\"process_data_proc_merge_revenue_ifrs_dd_seized\",\n    is_permanent=True,\n    stage_location=\"@TSELPOC_STAGE\",           # Replace with your actual stage\n    replace=True,\n    input_types=[StringType()],          # Instead of [str]\n    return_type=StringType(),            # Instead of str or \"STRING\"\n    packages=[\"snowflake-snowpark-python\"]\n)\n",
   "execution_count": null
  },
  {
   "cell_type": "code",
   "id": "932e2c45-29ce-4730-91fe-66ee36c7442a",
   "metadata": {
    "language": "sql",
    "name": "cell8"
   },
   "outputs": [],
   "source": "call TELKOMSEL_POC.CURATED.PROCESS_DATA_PROC_MERGE_REVENUE_IFRS_DD_SEIZED('2025-04-01')",
   "execution_count": null
  },
  {
   "cell_type": "code",
   "id": "50c9aea5-e8a8-4edc-a386-ff77184961fa",
   "metadata": {
    "language": "sql",
    "name": "cell2"
   },
   "outputs": [],
   "source": "select count(*) from telkomsel_poc.curated.merge_revenue_ifrs_dd_poc_tokenized;",
   "execution_count": null
  }
 ]
}