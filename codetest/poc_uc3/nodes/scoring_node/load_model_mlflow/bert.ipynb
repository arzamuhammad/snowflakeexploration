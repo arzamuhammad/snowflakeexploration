{
 "cells": [
  {
   "cell_type": "code",
   "execution_count": 1,
   "id": "dfc958ea-a625-43d0-89bc-78f1bb22f950",
   "metadata": {
    "tags": []
   },
   "outputs": [
    {
     "name": "stderr",
     "output_type": "stream",
     "text": [
      "/opt/conda/envs/snowflake-tsel-poc/lib/python3.11/site-packages/tqdm/auto.py:21: TqdmWarning: IProgress not found. Please update jupyter and ipywidgets. See https://ipywidgets.readthedocs.io/en/stable/user_install.html\n",
      "  from .autonotebook import tqdm as notebook_tqdm\n"
     ]
    }
   ],
   "source": [
    "import torch\n",
    "import torch.nn as nn\n",
    "import torch.optim as optim\n",
    "import torch.nn.functional as F\n",
    "from torch.utils.data import DataLoader, Dataset\n",
    "from transformers import BertModel, BertTokenizer"
   ]
  },
  {
   "cell_type": "code",
   "execution_count": 3,
   "id": "d3449a9a-14a7-4312-bead-37a62a2b2cc3",
   "metadata": {
    "scrolled": true,
    "tags": []
   },
   "outputs": [],
   "source": [
    "model_weights = torch.load(\"model/socmed_sentiment_model.pkl\", map_location=\"cpu\")"
   ]
  },
  {
   "cell_type": "code",
   "execution_count": 4,
   "id": "5ccf7257-c367-4b63-9796-e1c07ee02bab",
   "metadata": {
    "tags": []
   },
   "outputs": [],
   "source": [
    "bert_pretrained = BertModel.from_pretrained(\n",
    "    \"indobenchmark/indobert-large-p2\",\n",
    "    cache_dir=\"model\",\n",
    "    device_map=\"cpu\",\n",
    "    local_files_only=True,\n",
    ")\n",
    "bert_tokenizer = BertTokenizer.from_pretrained(\n",
    "    \"indobenchmark/indobert-large-p2\",\n",
    "    cache_dir=\"model\",\n",
    "    device_map=\"cpu\",\n",
    "    local_files_only=True,\n",
    ")"
   ]
  },
  {
   "cell_type": "code",
   "execution_count": 5,
   "id": "add77322-48a8-4fb7-80b2-54054ebbbbd8",
   "metadata": {
    "tags": []
   },
   "outputs": [
    {
     "name": "stdout",
     "output_type": "stream",
     "text": [
      "out.weight torch.Size([3, 1024])\n",
      "out.bias torch.Size([3])\n"
     ]
    }
   ],
   "source": [
    "for name, param in model_weights.items():\n",
    "    if \"out.\" in name:\n",
    "        print(name, param.size())"
   ]
  },
  {
   "cell_type": "code",
   "execution_count": 6,
   "id": "613c139b-055b-4039-8df9-410b7cfba79a",
   "metadata": {
    "tags": []
   },
   "outputs": [],
   "source": [
    "num_class = 3\n",
    "dropout_layer = nn.Dropout(p=.2)\n",
    "classifier_layer = nn.Linear(bert_pretrained.config.hidden_size, num_class)\n",
    "bert_pretrained.load_state_dict({k.replace(\"bert.\", \"\"): v for k, v in model_weights.items() if \"bert.\" in k})\n",
    "classifier_layer.load_state_dict({k.replace(\"out.\", \"\"): v for k, v in model_weights.items() if \"out.\" in k})\n",
    "\n",
    "for param in bert_pretrained.parameters():\n",
    "    param.requires_grad = False"
   ]
  },
  {
   "cell_type": "code",
   "execution_count": 8,
   "id": "cb75d96f-011e-4dc2-817e-182b27070b3f",
   "metadata": {
    "tags": []
   },
   "outputs": [],
   "source": [
    "texts = [\"hadeh biznet lama2 makin jelek\"]\n",
    "encoding = bert_tokenizer.encode_plus(\n",
    "    texts,\n",
    "    add_special_tokens=True,\n",
    "    # max_length=bert_tokenizer.vocab_size,\n",
    "    max_length=512,\n",
    "    return_token_type_ids=False,\n",
    "    padding='max_length',\n",
    "    truncation=True,\n",
    "    return_attention_mask=True,\n",
    "    return_tensors='pt',\n",
    ")"
   ]
  },
  {
   "cell_type": "code",
   "execution_count": 9,
   "id": "03d98afa-12b3-4c1d-99bb-0b3ebf2d7f9a",
   "metadata": {
    "tags": []
   },
   "outputs": [],
   "source": [
    "bert_pretrained = bert_pretrained.eval()\n",
    "predictions = []\n",
    "prediction_probs = []\n",
    "with torch.no_grad():\n",
    "    input_ids = encoding[\"input_ids\"].to(\"cpu\")\n",
    "    attention_mask = encoding[\"attention_mask\"].to(\"cpu\")\n",
    "\n",
    "    pooled_output = bert_pretrained(\n",
    "        input_ids=input_ids, \n",
    "        attention_mask=attention_mask\n",
    "    )\n",
    "    last_hidden_states = pooled_output[0]\n",
    "    outputs = dropout_layer(pooled_output[1])\n",
    "    outputs = classifier_layer(outputs)\n",
    "\n",
    "    # Process the output \n",
    "    _, preds = torch.max(outputs, dim=1)\n",
    "    probs = F.softmax(outputs, dim=1)\n",
    "\n",
    "    predictions.extend(preds)\n",
    "    prediction_probs.extend(probs)"
   ]
  },
  {
   "cell_type": "code",
   "execution_count": 11,
   "id": "e09dc9fb-35d7-4293-8c37-34b19c882a59",
   "metadata": {
    "tags": []
   },
   "outputs": [
    {
     "data": {
      "text/plain": [
       "([tensor(2)], [tensor([2.8022e-04, 2.4270e-04, 9.9948e-01])])"
      ]
     },
     "execution_count": 11,
     "metadata": {},
     "output_type": "execute_result"
    }
   ],
   "source": [
    "predictions, prediction_probs"
   ]
  },
  {
   "cell_type": "code",
   "execution_count": 12,
   "id": "d2d50fcb-b5fa-4217-b842-afe82e4f3d71",
   "metadata": {},
   "outputs": [],
   "source": [
    "class TselDataset(Dataset):\n",
    "    def __init__(self, texts, targets, tokenizer, max_len):\n",
    "        self.texts = texts\n",
    "        self.targets = targets\n",
    "        self.tokenizer = tokenizer\n",
    "        self.max_len = max_len\n",
    "\n",
    "    def __len__(self):\n",
    "        return len(self.texts)\n",
    "\n",
    "    def __getitem__(self, item):\n",
    "        review = str(self.texts[item])\n",
    "        target = self.targets[item]\n",
    "\n",
    "        encoding = self.tokenizer.encode_plus(\n",
    "            review,\n",
    "            add_special_tokens=True,\n",
    "            max_length=self.max_len,\n",
    "            return_token_type_ids=False,\n",
    "            #pad_to_max_length=True,\n",
    "            padding='max_length',\n",
    "            truncation=True,\n",
    "            return_attention_mask=True,\n",
    "            return_tensors='pt',\n",
    "        )\n",
    "\n",
    "        return {\n",
    "            'review_text': review,\n",
    "            'input_ids': encoding['input_ids'].flatten(),\n",
    "            'attention_mask': encoding['attention_mask'].flatten(),\n",
    "            'targets': torch.tensor(target, dtype=torch.long)\n",
    "        }"
   ]
  }
 ],
 "metadata": {
  "environment": {
   "kernel": "snowflake-poc-tsel",
   "name": "workbench-notebooks.m126",
   "type": "gcloud",
   "uri": "us-docker.pkg.dev/deeplearning-platform-release/gcr.io/workbench-notebooks:m126"
  },
  "kernelspec": {
   "display_name": "snowflake-poc-tsel",
   "language": "python",
   "name": "snowflake-poc-tsel"
  },
  "language_info": {
   "codemirror_mode": {
    "name": "ipython",
    "version": 3
   },
   "file_extension": ".py",
   "mimetype": "text/x-python",
   "name": "python",
   "nbconvert_exporter": "python",
   "pygments_lexer": "ipython3",
   "version": "3.11.12"
  }
 },
 "nbformat": 4,
 "nbformat_minor": 5
}
