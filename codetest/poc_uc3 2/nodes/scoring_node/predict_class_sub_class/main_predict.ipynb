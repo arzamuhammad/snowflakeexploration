{
  "nbformat": 4,
  "nbformat_minor": 0,
  "metadata": {
    "colab": {
      "provenance": []
    },
    "kernelspec": {
      "name": "python3",
      "display_name": "Python 3"
    },
    "language_info": {
      "name": "python"
    }
  },
  "cells": [
    {
      "cell_type": "code",
      "execution_count": null,
      "metadata": {
        "id": "DGra8lnLYvib"
      },
      "outputs": [],
      "source": [
        "import pandas as pd\n",
        "import matplotlib.pyplot as plt\n",
        "import seaborn as sns\n",
        "import transformers\n",
        "from transformers import BertConfig, BertModel, BertTokenizer, AdamW, get_linear_schedule_with_warmup\n",
        "import torch\n",
        "from torch import nn, optim\n",
        "from torch.utils.data import Dataset, DataLoader\n",
        "import torch.nn.functional as F\n",
        "from sklearn.model_selection import train_test_split\n",
        "from sklearn.metrics import confusion_matrix, classification_report\n",
        "\n",
        "RANDOM_SEED = 42\n",
        "torch.manual_seed(RANDOM_SEED)\n",
        "device = torch.device(\"cuda:0\" if torch.cuda.is_available() else \"cpu\")"
      ]
    },
    {
      "cell_type": "code",
      "source": [
        "from google.colab import drive\n",
        "drive.mount('/content/drive')"
      ],
      "metadata": {
        "colab": {
          "base_uri": "https://localhost:8080/"
        },
        "id": "00cFoigXY2VO",
        "outputId": "a8784f9b-5a5c-4e44-da03-5c58bf2779b0"
      },
      "execution_count": null,
      "outputs": [
        {
          "output_type": "stream",
          "name": "stdout",
          "text": [
            "Mounted at /content/drive\n"
          ]
        }
      ]
    },
    {
      "cell_type": "code",
      "source": [
        "tokenizer = BertTokenizer.from_pretrained(\"/content/drive/MyDrive/fmc/tsel_cx_tnps_sentiment_tokenv2.bin\")\n",
        "PRE_TRAINED_MODEL_NAME = '/content/drive/MyDrive/fmc/huggingface_bert_modelv2.bin'\n",
        "FINE_TUNED_MODEL_NAME = '/content/drive/MyDrive/fmc/tsel_cx_tnps_topic_modelv2.bin'"
      ],
      "metadata": {
        "id": "90ig2tDlY-jc"
      },
      "execution_count": null,
      "outputs": []
    },
    {
      "cell_type": "code",
      "source": [
        "MAX_LEN = 100\n",
        "BATCH_SIZE = 32\n",
        "no_of_classes = 9\n",
        "class_names = ['network', 'pricing', 'product', 'service', 'halo', 'mytsel', 'fintech', 'others', 'migrasi']"
      ],
      "metadata": {
        "id": "dRBTqBYSZEWm"
      },
      "execution_count": null,
      "outputs": []
    },
    {
      "cell_type": "code",
      "source": [
        "class TselDataset(Dataset):\n",
        "\n",
        "  def __init__(self, texts, targets, tokenizer, max_len):\n",
        "    self.texts = texts\n",
        "    self.targets = targets\n",
        "    self.tokenizer = tokenizer\n",
        "    self.max_len = max_len\n",
        "\n",
        "  def __len__(self):\n",
        "    return len(self.texts)\n",
        "\n",
        "  def __getitem__(self, item):\n",
        "    review = str(self.texts[item])\n",
        "    target = self.targets[item]\n",
        "\n",
        "    encoding = self.tokenizer.encode_plus(\n",
        "      review,\n",
        "      add_special_tokens=True,\n",
        "      max_length=self.max_len,\n",
        "      return_token_type_ids=False,\n",
        "      #pad_to_max_length=True,\n",
        "      padding='max_length',\n",
        "      truncation=True,\n",
        "      return_attention_mask=True,\n",
        "      return_tensors='pt',\n",
        "    )\n",
        "\n",
        "    return {\n",
        "      'review_text': review,\n",
        "      'input_ids': encoding['input_ids'].flatten(),\n",
        "      'attention_mask': encoding['attention_mask'].flatten(),\n",
        "      'targets': torch.tensor(target, dtype=torch.long)\n",
        "    }\n",
        "\n",
        "def create_data_loader(df, tokenizer, max_len, batch_size):\n",
        "  ds = TselDataset(\n",
        "    texts=df.text.to_numpy(),\n",
        "    targets=df.label.to_numpy(),\n",
        "    tokenizer=tokenizer,\n",
        "    max_len=max_len\n",
        "  )\n",
        "\n",
        "  return DataLoader(\n",
        "    ds,\n",
        "    batch_size=batch_size,\n",
        "    num_workers=2\n",
        "  )\n",
        "\n"
      ],
      "metadata": {
        "id": "TX7UbuJLZHDm"
      },
      "execution_count": null,
      "outputs": []
    },
    {
      "cell_type": "code",
      "source": [
        "class TextClassifier(nn.Module):\n",
        "\n",
        "  def __init__(self, n_classes):\n",
        "    super(TextClassifier, self).__init__()\n",
        "    self.bert = BertModel.from_pretrained(PRE_TRAINED_MODEL_NAME)\n",
        "    self.drop = nn.Dropout(p=0.2)\n",
        "    self.out = nn.Linear(self.bert.config.hidden_size, n_classes)\n",
        "\n",
        "  def forward(self, input_ids, attention_mask):\n",
        "    pooled_output = self.bert(\n",
        "      input_ids=input_ids,\n",
        "      attention_mask=attention_mask\n",
        "    )\n",
        "    #print(pooled_output)\n",
        "    output = self.drop(pooled_output[1])\n",
        "    return self.out(output), pooled_output[0]"
      ],
      "metadata": {
        "id": "6q36ggc8aY6I"
      },
      "execution_count": null,
      "outputs": []
    },
    {
      "cell_type": "code",
      "source": [
        "model = TextClassifier(no_of_classes)\n",
        "model = model.to(device)\n",
        "state_dict = torch.load(FINE_TUNED_MODEL_NAME, map_location=device)\n",
        "model.load_state_dict(state_dict)"
      ],
      "metadata": {
        "id": "VT4TaFi0s1la",
        "colab": {
          "base_uri": "https://localhost:8080/"
        },
        "outputId": "3125bbcc-7db4-4288-c081-aa8b1baf1257"
      },
      "execution_count": null,
      "outputs": [
        {
          "output_type": "execute_result",
          "data": {
            "text/plain": [
              "<All keys matched successfully>"
            ]
          },
          "metadata": {},
          "execution_count": 9
        }
      ]
    },
    {
      "cell_type": "code",
      "source": [
        "def get_predictions(model, data_loader):\n",
        "  model = model.eval()\n",
        "\n",
        "  review_texts = []\n",
        "  predictions = []\n",
        "  prediction_probs = []\n",
        "  real_values = []\n",
        "\n",
        "  with torch.no_grad():\n",
        "    for d in data_loader:\n",
        "\n",
        "      texts = d[\"review_text\"]\n",
        "      input_ids = d[\"input_ids\"].to(device)\n",
        "      attention_mask = d[\"attention_mask\"].to(device)\n",
        "      targets = d[\"targets\"].to(device)\n",
        "\n",
        "      outputs, lhs = model(\n",
        "        input_ids=input_ids,\n",
        "        attention_mask=attention_mask\n",
        "      )\n",
        "\n",
        "      _, preds = torch.max(outputs, dim=1)\n",
        "\n",
        "      probs = F.softmax(outputs, dim=1)\n",
        "\n",
        "      review_texts.extend(texts)\n",
        "      predictions.extend(preds)\n",
        "      prediction_probs.extend(probs)\n",
        "      real_values.extend(targets)\n",
        "\n",
        "  predictions = torch.stack(predictions).cpu()\n",
        "  prediction_probs = torch.stack(prediction_probs).cpu()\n",
        "  real_values = torch.stack(real_values).cpu()\n",
        "  return review_texts, predictions, prediction_probs, real_values, lhs, attention_mask"
      ],
      "metadata": {
        "id": "0FCQVEzZZWQX"
      },
      "execution_count": null,
      "outputs": []
    },
    {
      "cell_type": "code",
      "source": [
        "predict_text='kualitas jaringan dan pelayanan pelanggan yang baik'\n",
        "data = {'text':[predict_text], 'label':[0]}\n",
        "dfp = pd.DataFrame(data)\n",
        "predicting_data_loader = create_data_loader(dfp, tokenizer, MAX_LEN, BATCH_SIZE)\n",
        "y_review_texts, y_pred, y_pred_probs, y_test, lhs, attention_mask = get_predictions(\n",
        "  model,\n",
        "  predicting_data_loader\n",
        ")\n",
        "#print(class_names[y_pred.item()])"
      ],
      "metadata": {
        "id": "ALpvcepSZmTc"
      },
      "execution_count": null,
      "outputs": []
    },
    {
      "cell_type": "code",
      "source": [
        "print(class_names[y_pred.item()])"
      ],
      "metadata": {
        "colab": {
          "base_uri": "https://localhost:8080/"
        },
        "id": "VJ23kjk_0clj",
        "outputId": "1bc0f647-2624-4d3a-9c07-69f7d109945d"
      },
      "execution_count": null,
      "outputs": [
        {
          "output_type": "stream",
          "name": "stdout",
          "text": [
            "network\n"
          ]
        }
      ]
    },
    {
      "cell_type": "code",
      "source": [
        "embeddings = lhs\n",
        "mask = attention_mask.unsqueeze(-1).expand(embeddings.size()).float()\n",
        "masked_embeddings = embeddings * mask\n",
        "summed = torch.sum(masked_embeddings, 1)\n",
        "summed_mask = torch.clamp(mask.sum(1), min=1e-9)\n",
        "mean_pooled = summed / summed_mask\n",
        "mean_pooled = mean_pooled.detach().numpy()\n"
      ],
      "metadata": {
        "id": "DDR3s5ETgP73"
      },
      "execution_count": null,
      "outputs": []
    },
    {
      "cell_type": "code",
      "source": [
        "sentences = [\n",
        "    \"browsing internet\",\n",
        "    \"jangkauan lokasi lemot cepat lambat kencang kenceng hilang sinyal hilang kuat\",\n",
        "    \"sms voice telpon panggilan\"\n",
        "]"
      ],
      "metadata": {
        "id": "bEAlWcQxUIAS"
      },
      "execution_count": null,
      "outputs": []
    },
    {
      "cell_type": "code",
      "source": [
        "sentences = [\n",
        "    \"paket internet, paket kuota\",\n",
        "    \"paket internet combo sakti, paket kuota combo sakti, paket combo sakti\",\n",
        "    \"paket internet internet sakti, paket kuota internet sakti, paket internet sakti\",\n",
        "    \"paket internet darurat, paket kuota darurat, paket darurat\"\n",
        "]"
      ],
      "metadata": {
        "id": "I27OE0H7UNBa"
      },
      "execution_count": null,
      "outputs": []
    },
    {
      "cell_type": "code",
      "source": [
        "sentences = [\n",
        "    \"browsing internet\",\n",
        "    \"jangkauan lokasi lemot cepat lambat kencang kenceng hilang sinyal hilang kuat\",\n",
        "    \"sms voice telpon panggilan\"\n",
        "]\n",
        "tokens = {'input_ids': [], 'attention_mask': []}\n",
        "\n",
        "for sentence in sentences:\n",
        "    new_tokens = tokenizer.encode_plus(sentence, max_length=100,\n",
        "                                       truncation=True, padding='max_length',\n",
        "                                       return_tensors='pt')\n",
        "\n",
        "    tokens['input_ids'].append(new_tokens['input_ids'][0])\n",
        "    tokens['attention_mask'].append(new_tokens['attention_mask'][0])\n",
        "\n",
        "tokens['input_ids'] = torch.stack(tokens['input_ids'])\n",
        "tokens['attention_mask'] = torch.stack(tokens['attention_mask'])\n",
        "\n",
        "outputs,lhs_ref = model(**tokens)\n",
        "embeddings_ref = lhs_ref\n",
        "attention_mask_ref = tokens['attention_mask']\n",
        "mask_ref = attention_mask_ref.unsqueeze(-1).expand(embeddings_ref.size()).float()\n",
        "masked_embeddings_ref = embeddings_ref * mask_ref\n",
        "summed_ref = torch.sum(masked_embeddings_ref, 1)\n",
        "summed_mask_ref = torch.clamp(mask_ref.sum(1), min=1e-9)\n",
        "mean_pooled_ref = summed_ref / summed_mask_ref\n",
        "mean_pooled_ref = mean_pooled_ref.detach().numpy()"
      ],
      "metadata": {
        "id": "TMpgqOX8kyvs"
      },
      "execution_count": null,
      "outputs": []
    },
    {
      "cell_type": "code",
      "source": [
        "from sklearn.metrics.pairwise import cosine_similarity"
      ],
      "metadata": {
        "id": "kzMFthZtnjKL"
      },
      "execution_count": null,
      "outputs": []
    },
    {
      "cell_type": "code",
      "source": [
        "cosine_similarity(\n",
        "    mean_pooled,\n",
        "    mean_pooled_ref[:]\n",
        ")"
      ],
      "metadata": {
        "colab": {
          "base_uri": "https://localhost:8080/"
        },
        "id": "jtAKB6EwnLH6",
        "outputId": "14b30737-6509-4b2b-af0a-d44cd4477318"
      },
      "execution_count": null,
      "outputs": [
        {
          "output_type": "execute_result",
          "data": {
            "text/plain": [
              "array([[0.85500836, 0.88252974, 0.75214326]], dtype=float32)"
            ]
          },
          "metadata": {},
          "execution_count": 17
        }
      ]
    },
    {
      "cell_type": "code",
      "source": [],
      "metadata": {
        "id": "vb_J8FrY0qIG"
      },
      "execution_count": null,
      "outputs": []
    }
  ]
}